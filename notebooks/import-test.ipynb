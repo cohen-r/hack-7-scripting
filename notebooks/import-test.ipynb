{
 "cells": [
  {
   "cell_type": "code",
   "execution_count": 2,
   "id": "hundred-friendship",
   "metadata": {},
   "outputs": [],
   "source": [
    "import sys"
   ]
  },
  {
   "cell_type": "code",
   "execution_count": 4,
   "id": "related-president",
   "metadata": {},
   "outputs": [
    {
     "name": "stdout",
     "output_type": "stream",
     "text": [
      "['/Users/rachelcohen/hacks/hack-7-scripting/notebooks', '/Users/rachelcohen/miniconda3/lib/python38.zip', '/Users/rachelcohen/miniconda3/lib/python3.8', '/Users/rachelcohen/miniconda3/lib/python3.8/lib-dynload', '', '/Users/rachelcohen/miniconda3/lib/python3.8/site-packages', '/Users/rachelcohen/miniconda3/lib/python3.8/site-packages/IPython/extensions', '/Users/rachelcohen/.ipython']\n"
     ]
    }
   ],
   "source": [
    "print(sys.path)"
   ]
  },
  {
   "cell_type": "code",
   "execution_count": 6,
   "id": "defined-inspector",
   "metadata": {},
   "outputs": [
    {
     "name": "stdout",
     "output_type": "stream",
     "text": [
      "['/Users/rachelcohen/hacks/hack-7-scripting/notebooks', '/Users/rachelcohen/miniconda3/lib/python38.zip', '/Users/rachelcohen/miniconda3/lib/python3.8', '/Users/rachelcohen/miniconda3/lib/python3.8/lib-dynload', '', '/Users/rachelcohen/miniconda3/lib/python3.8/site-packages', '/Users/rachelcohen/miniconda3/lib/python3.8/site-packages/IPython/extensions', '/Users/rachelcohen/.ipython', '../', '../']\n"
     ]
    }
   ],
   "source": [
    "sys.path.append(\"../\")\n",
    "print(sys.path)"
   ]
  },
  {
   "cell_type": "code",
   "execution_count": 8,
   "id": "curious-curtis",
   "metadata": {},
   "outputs": [
    {
     "data": {
      "text/plain": [
       "'My reply is no'"
      ]
     },
     "execution_count": 8,
     "metadata": {},
     "output_type": "execute_result"
    }
   ],
   "source": [
    "import mypackage.mymodule\n",
    "mypackage.mymodule.magic_eight_ball()"
   ]
  },
  {
   "cell_type": "code",
   "execution_count": 9,
   "id": "waiting-pharmacology",
   "metadata": {},
   "outputs": [
    {
     "data": {
      "text/plain": [
       "'My reply is no'"
      ]
     },
     "execution_count": 9,
     "metadata": {},
     "output_type": "execute_result"
    }
   ],
   "source": [
    "from mypackage import mymodule\n",
    "mymodule.magic_eight_ball()"
   ]
  },
  {
   "cell_type": "code",
   "execution_count": 10,
   "id": "signal-lyric",
   "metadata": {},
   "outputs": [
    {
     "data": {
      "text/plain": [
       "'It is certain.'"
      ]
     },
     "execution_count": 10,
     "metadata": {},
     "output_type": "execute_result"
    }
   ],
   "source": [
    "from mypackage.mymodule import magic_eight_ball\n",
    "magic_eight_ball()"
   ]
  }
 ],
 "metadata": {
  "kernelspec": {
   "display_name": "Python 3",
   "language": "python",
   "name": "python3"
  },
  "language_info": {
   "codemirror_mode": {
    "name": "ipython",
    "version": 3
   },
   "file_extension": ".py",
   "mimetype": "text/x-python",
   "name": "python",
   "nbconvert_exporter": "python",
   "pygments_lexer": "ipython3",
   "version": "3.8.5"
  }
 },
 "nbformat": 4,
 "nbformat_minor": 5
}
